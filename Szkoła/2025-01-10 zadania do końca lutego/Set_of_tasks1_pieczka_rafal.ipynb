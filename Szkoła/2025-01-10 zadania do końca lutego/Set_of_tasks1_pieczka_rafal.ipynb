{
 "cells": [
  {
   "cell_type": "markdown",
   "metadata": {
    "id": "S2UFyWSTgSv2"
   },
   "source": [
    "# Good practices: defining variable types"
   ]
  },
  {
   "attachments": {
    "image.png": {
     "image/png": "[encoded data removed]"
    }
   },
   "cell_type": "markdown",
   "metadata": {
    "id": "ePPAFhlbgdda"
   },
   "source": [
    "Defining variable types is possible by adding the \":\" character and the data type directly after the variable name. \n",
    "\n",
    "Using this practice will allow you to check the type of a variable by hovering over the variable later in the code, \n",
    "where the variable is applied.\n",
    "\n",
    "![image.png](attachment:image.png)\n",
    "\n",
    "\n",
    "Adding a type to a variable =/= type validation.\n",
    "\n",
    "The following code will not return an error despite the incorrectly assigned type:\n",
    "\n",
    "```\n",
    "name:int = \"kacper\"\n",
    "```\n"
   ]
  },
  {
   "cell_type": "code",
   "execution_count": 1,
   "metadata": {
    "executionInfo": {
     "elapsed": 425,
     "status": "ok",
     "timestamp": 1721050257609,
     "user": {
      "displayName": "Krystian Osmenda",
      "userId": "16988292597281668242"
     },
     "user_tz": -120
    },
    "id": "7cj6JfB3gffp"
   },
   "outputs": [
    {
     "name": "stdout",
     "output_type": "stream",
     "text": [
      "kacper\n"
     ]
    }
   ],
   "source": [
    "name:str = \"kacper\"\n",
    "age:int = 22\n",
    "\n",
    "print(name)"
   ]
  },
  {
   "cell_type": "markdown",
   "metadata": {
    "id": "DFE2lAQvmPuR"
   },
   "source": [
    "# Good practices: defining types in functions"
   ]
  },
  {
   "cell_type": "markdown",
   "metadata": {
    "id": "_hdYy9lbl1Hb"
   },
   "source": [
    "When adding a type to a method or function, we use a very similar syntax:"
   ]
  },
  {
   "cell_type": "code",
   "execution_count": 2,
   "metadata": {
    "executionInfo": {
     "elapsed": 335,
     "status": "ok",
     "timestamp": 1721050553470,
     "user": {
      "displayName": "Krystian Osmenda",
      "userId": "16988292597281668242"
     },
     "user_tz": -120
    },
    "id": "0iRrjAztmB-b"
   },
   "outputs": [],
   "source": [
    "def say_hello(name: str) -> None: print(f\"hello {name}\")"
   ]
  },
  {
   "cell_type": "markdown",
   "metadata": {
    "id": "i7KUY4oOnFwS"
   },
   "source": [
    "By using this approach when referring to a function, it is possible to check the type by hovering over the place where the function arguments are added.\n",
    "\n",
    "Adding a type to a function =/= type validation."
   ]
  },
  {
   "cell_type": "markdown",
   "metadata": {
    "id": "9oExi_rUneR4"
   },
   "source": [
    "# Good practices: describing functions (docstring)"
   ]
  },
  {
   "cell_type": "markdown",
   "metadata": {
    "id": "cTxwffFVnwqj"
   },
   "source": [
    "\n",
    "Having functions (methods) described is helpful in solving possible problems with the code, as well as in making it easier to understand their role in the system."
   ]
  },
  {
   "cell_type": "code",
   "execution_count": 3,
   "metadata": {
    "colab": {
     "base_uri": "https://localhost:8080/"
    },
    "executionInfo": {
     "elapsed": 379,
     "status": "ok",
     "timestamp": 1721051169899,
     "user": {
      "displayName": "Krystian Osmenda",
      "userId": "16988292597281668242"
     },
     "user_tz": -120
    },
    "id": "wn5VZkPIodso",
    "outputId": "73c0a531-dc8a-47f7-fcb6-46df0d8b6d20"
   },
   "outputs": [
    {
     "data": {
      "text/plain": [
       "'\\nFunction checking if x is equal to y\\n'"
      ]
     },
     "execution_count": 3,
     "metadata": {},
     "output_type": "execute_result"
    }
   ],
   "source": [
    "def is_equal(x: int, y: int) -> bool: return x == y\n",
    "'''\n",
    "Function checking if x is equal to y\n",
    "'''"
   ]
  },
  {
   "cell_type": "markdown",
   "metadata": {
    "id": "mbv5Oc7PpT-l"
   },
   "source": [
    "\n",
    "The \"is_equal\" function described in this way will provide information about its operation when entering it or using it later."
   ]
  },
  {
   "cell_type": "markdown",
   "metadata": {
    "id": "F3ecaDCypvXT"
   },
   "source": [
    "# Good practices: commenting"
   ]
  },
  {
   "cell_type": "markdown",
   "metadata": {
    "id": "ck1Nz_78rFhB"
   },
   "source": [
    "\n",
    "When working with multi-module/complex code, it's easy to forget what a piece of code does or when collaborating with others, so it's important to add comments to make it easier to understand."
   ]
  },
  {
   "cell_type": "code",
   "execution_count": 4,
   "metadata": {},
   "outputs": [],
   "source": [
    "key:str = \"sdf@a44f#dgre\" # Acces key to weather.co"
   ]
  },
  {
   "cell_type": "markdown",
   "metadata": {
    "id": "L-qDx3SarrSX"
   },
   "source": [
    "Remember! By adding comments to the code and using docstrings, you will make work easier for yourself and other people using your solutions."
   ]
  },
  {
   "cell_type": "markdown",
   "metadata": {
    "id": "LKlVWNTvFLL5"
   },
   "source": [
    "# **Python Task Set 1**"
   ]
  },
  {
   "cell_type": "markdown",
   "metadata": {
    "id": "eHdCxBCrFlWi"
   },
   "source": [
    "Exercise 1.\n",
    "\n",
    "Write a program that will convert Celsius to Fahrenheit and vice versa (user-entered data)."
   ]
  },
  {
   "cell_type": "code",
   "execution_count": 5,
   "metadata": {
    "id": "Y2CzlO6wFKdG"
   },
   "outputs": [
    {
     "name": "stdout",
     "output_type": "stream",
     "text": [
      "Konwerter temperatury Celsiusz -> Fahrenheit\n",
      "-----------------------------------------\n",
      "Wpisz wartość temperatury wyrażoną w stopniach Celsiusza i wciśniej ENTER aby przeliczyć ją na Fahrenheity: \n"
     ]
    },
    {
     "ename": "ValueError",
     "evalue": "could not convert string to float: ''",
     "output_type": "error",
     "traceback": [
      "\u001b[1;31m---------------------------------------------------------------------------\u001b[0m",
      "\u001b[1;31mValueError\u001b[0m                                Traceback (most recent call last)",
      "Cell \u001b[1;32mIn [5], line 14\u001b[0m\n\u001b[0;32m     11\u001b[0m \u001b[38;5;28mprint\u001b[39m(\u001b[38;5;124m'\u001b[39m\u001b[38;5;124mKonwerter temperatury Celsiusz -> Fahrenheit\u001b[39m\u001b[38;5;124m'\u001b[39m)\n\u001b[0;32m     12\u001b[0m \u001b[38;5;28mprint\u001b[39m(\u001b[38;5;124m'\u001b[39m\u001b[38;5;124m-----------------------------------------\u001b[39m\u001b[38;5;124m'\u001b[39m)\n\u001b[1;32m---> 14\u001b[0m \u001b[43mC_F_conversion\u001b[49m\u001b[43m(\u001b[49m\u001b[43m)\u001b[49m\n",
      "Cell \u001b[1;32mIn [5], line 6\u001b[0m, in \u001b[0;36mC_F_conversion\u001b[1;34m()\u001b[0m\n\u001b[0;32m      2\u001b[0m \u001b[38;5;124;03m'''Funcja przeliczająca wartość podaną w stopniach Celsiusza na Fahrenheity'''\u001b[39;00m\n\u001b[0;32m      5\u001b[0m \u001b[38;5;28mprint\u001b[39m(\u001b[38;5;124m'\u001b[39m\u001b[38;5;124mWpisz wartość temperatury wyrażoną w stopniach Celsiusza i wciśniej ENTER aby przeliczyć ją na Fahrenheity: \u001b[39m\u001b[38;5;124m'\u001b[39m)\n\u001b[1;32m----> 6\u001b[0m celsius_temp \u001b[38;5;241m=\u001b[39m \u001b[38;5;28;43mfloat\u001b[39;49m\u001b[43m(\u001b[49m\u001b[38;5;28;43minput\u001b[39;49m\u001b[43m(\u001b[49m\u001b[43m)\u001b[49m\u001b[43m)\u001b[49m       \u001b[38;5;66;03m#zamieniamy podaną przez użytkownika wartosć na typ float\u001b[39;00m\n\u001b[0;32m      7\u001b[0m fahrenheit_temp \u001b[38;5;241m=\u001b[39m (celsius_temp \u001b[38;5;241m*\u001b[39m \u001b[38;5;241m9\u001b[39m\u001b[38;5;241m/\u001b[39m\u001b[38;5;241m5\u001b[39m) \u001b[38;5;241m+\u001b[39m \u001b[38;5;241m32\u001b[39m     \u001b[38;5;66;03m#wzór służący do konwersji C -> F i przypisanie wyniku konwersji do zmiennej 'fahrenheit_temp'\u001b[39;00m\n\u001b[0;32m      8\u001b[0m \u001b[38;5;28mprint\u001b[39m(\u001b[38;5;124mf\u001b[39m\u001b[38;5;124m'\u001b[39m\u001b[38;5;124mTemperatura \u001b[39m\u001b[38;5;132;01m{\u001b[39;00mcelsius_temp\u001b[38;5;132;01m}\u001b[39;00m\u001b[38;5;124m st C w przeliczeniu na Fahrenheity to: \u001b[39m\u001b[38;5;132;01m{\u001b[39;00mfahrenheit_temp\u001b[38;5;132;01m}\u001b[39;00m\u001b[38;5;124m F\u001b[39m\u001b[38;5;124m'\u001b[39m)\n",
      "\u001b[1;31mValueError\u001b[0m: could not convert string to float: ''"
     ]
    }
   ],
   "source": [
    "def C_F_conversion():\n",
    "    '''Funcja przeliczająca wartość podaną w stopniach Celsiusza na Fahrenheity'''\n",
    "    \n",
    "\n",
    "    print('Wpisz wartość temperatury wyrażoną w stopniach Celsiusza i wciśniej ENTER aby przeliczyć ją na Fahrenheity: ')\n",
    "    celsius_temp = float(input())       #zamieniamy podaną przez użytkownika wartosć na typ float\n",
    "    fahrenheit_temp = (celsius_temp * 9/5) + 32     #wzór służący do konwersji C -> F i przypisanie wyniku konwersji do zmiennej 'fahrenheit_temp'\n",
    "    print(f'Temperatura {celsius_temp} st C w przeliczeniu na Fahrenheity to: {fahrenheit_temp} F')\n",
    "\n",
    "\n",
    "print('Konwerter temperatury Celsiusz -> Fahrenheit')\n",
    "print('-----------------------------------------')\n",
    "\n",
    "C_F_conversion()"
   ]
  },
  {
   "cell_type": "markdown",
   "metadata": {
    "id": "5y3_FnHkFswg"
   },
   "source": [
    "Exercise 2.\n",
    "\n",
    "Print the price of the shoes for PLN 211 after paying 23% tax."
   ]
  },
  {
   "cell_type": "code",
   "execution_count": null,
   "metadata": {
    "id": "9AlLF2-hF3jz"
   },
   "outputs": [],
   "source": [
    "def VAT_calculation():\n",
    "    '''Funcja obliczająca wartość podatku VAT oraz cenę brutto na podstawie ceny netto podanej przez użytkownika'''\n",
    "    netto_price = 211    #cena netto jest stała w tym przypadku\n",
    "\n",
    "    print(f'Cena netto butów to {netto_price:.2f} PLN')\n",
    "\n",
    "    VAT_value = 0.23*netto_price\n",
    "    brutto_price = netto_price+VAT_value\n",
    "\n",
    "    print(f'Wartość podatku VAT to {VAT_value} PLN')\n",
    "    print(f'Całkowita cena butów po uwzględnieniu podatku VAT to {brutto_price} PLN')\n",
    "\n",
    "\n",
    "print()\n",
    "print('Program liczący wartość podatku VAT oraz cenę brutto ')\n",
    "print('-----------------------------------------')\n",
    "\n",
    "VAT_calculation()"
   ]
  },
  {
   "cell_type": "markdown",
   "metadata": {
    "id": "0IPvd2dMF4LP"
   },
   "source": [
    "Exercise 3\n",
    "\n",
    "Use the conditional constructor to write a program that will ask the user to enter his weight, then ask him on what planet he would like to know his weight and calculate it depending on the given answer."
   ]
  },
  {
   "cell_type": "code",
   "execution_count": null,
   "metadata": {
    "id": "RQGqr-iIF_2M"
   },
   "outputs": [],
   "source": [
    "def weight_calculation():\n",
    "    '''Funcja przeliczająca wagę w zależności od wybranej przez użytkownika planety docelowej'''\n",
    "    \n",
    "    # Pytamy użytkownika o jego wagę na Ziemi\n",
    "    earth_weight = float(input(\"Podaj swoją wagę na Ziemii (kg): \"))\n",
    "    \n",
    "    while True:\n",
    "        # Wyświetlamy menu wyboru planet\n",
    "        print(\"\\nWybierz planetę, aby obliczyć swoją wagę na tej planecie:\")\n",
    "        print(\"1. Merkury\")\n",
    "        print(\"2. Wenus\")\n",
    "        print(\"3. Ziemia\")\n",
    "        print(\"4. Mars\")\n",
    "        print(\"5. Jowisz\")\n",
    "        print(\"6. Saturn\")\n",
    "        print(\"7. Uran\")\n",
    "        print(\"8. Neptun\")\n",
    "        \n",
    "        # Zapytaj użytkownika o wybór planety\n",
    "        choice = int(input(\"\\nWpisz numer odpowiadający wybranej planecie i wciśnij ENTER: \"))\n",
    "        \n",
    "        # Struktura warunkowa obsługująca wybór użytkownika\n",
    "        if choice == 1:\n",
    "            planet_name = \"Merkury\"\n",
    "            gravity = 0.38\n",
    "        elif choice == 2:\n",
    "            planet_name = \"Wenus\"\n",
    "            gravity = 0.91\n",
    "        elif choice == 3:\n",
    "            planet_name = \"Ziemia\"\n",
    "            gravity = 1.00\n",
    "        elif choice == 4:\n",
    "            planet_name = \"Mars\"\n",
    "            gravity = 0.38\n",
    "        elif choice == 5:\n",
    "            planet_name = \"Jowisz\"\n",
    "            gravity = 2.34\n",
    "        elif choice == 6:\n",
    "            planet_name = \"Saturn\"\n",
    "            gravity = 1.06\n",
    "        elif choice == 7:\n",
    "            planet_name = \"Uran\"\n",
    "            gravity = 0.92\n",
    "        elif choice == 8:\n",
    "            planet_name = \"Neptun\"\n",
    "            gravity = 1.19\n",
    "        else:\n",
    "            print(\"\\nNieprawidłowy wybór. Spróbuj ponownie.\")\n",
    "            continue\n",
    "        \n",
    "        weight_on_planet = earth_weight * gravity\n",
    "        print(f\"\\nTwoja waga na planecie {planet_name} wynosi: {weight_on_planet:.2f} kg\")\n",
    "        \n",
    "        # Pytamy użytkownika, czy chce przeliczyć wagę ponownie\n",
    "        repeat = input(\"\\nCzy chcesz przeliczyć wagę ponownie? (t/n): \").strip().lower()\n",
    "        if repeat != 't':\n",
    "            print(\"\\nDziękuję za skorzystanie z programu\")\n",
    "            break\n",
    "\n",
    "print()\n",
    "print('Program pozwalający przeliczyć podaną wagę na Ziemii na odpowiadającą wagę na jednej z pozostałych planet naszego Układu Słonecznego')\n",
    "print('-----------------------------------------')\n",
    "\n",
    "weight_calculation()"
   ]
  },
  {
   "cell_type": "markdown",
   "metadata": {
    "id": "M23ym1mEGAQY"
   },
   "source": [
    "Exercise 4\n",
    "\n",
    "You are a teacher and you want to write a program that will check the knowledge level of your students.\n",
    "\n",
    "Come up with 6 questions about any field and then write a program that will ask the questions, accept the answers and if they are correct, it will add a point to the pool, which will then be counted and display the result with information about whether the exam has been passed."
   ]
  },
  {
   "cell_type": "code",
   "execution_count": null,
   "metadata": {
    "id": "higIQ6CyGC2S"
   },
   "outputs": [],
   "source": [
    "import random\n",
    "\n",
    "def quiz_app():\n",
    "    '''Quiz z losowymi pytaniami'''\n",
    "\n",
    "    # Słownik z 20 pytaniami i poprawnymi odpowiedziami\n",
    "    questions = {\n",
    "        1: (\"Jaki kolor może przyjąć różowa pantera?\", \"Bladoróżowy\"),\n",
    "        2: (\"Czy dziś jest słonecznie?\", \"nie\"),\n",
    "        3: (\"Kto uchodzi za wynalazcę telefonu (podaj nazwisko)?\", \"Bell\"),\n",
    "        4: (\"Jakim środkiem z domowej kuchni można zabezpieczyć stal przed oksydacją?\", \"olej\"),\n",
    "        5: (\"Czy do zawieszenia obrazka na ścianie warto użyć kołka rozporowego z pasującym wkrętem lub hakiem?\", \"tak\"),\n",
    "        6: (\"Czy regulowane biurka zawsze są stabilne?\", \"nie\"),\n",
    "        7: (\"Czy warto pić dużo wody?\", \"tak\"),\n",
    "        8: (\"Czy w tym roku będzie śnieg?\", \"Pomidor\"),\n",
    "        9: (\"Jakie warzywo kojarzy się ze słoneczną Italią?\", \"Pomidor\"),\n",
    "        10: (\"Czy krowy mogą latać?\", \"nie\"),\n",
    "        11: (\"Jakie zwierzę jest znane z tego, że śpi na jednej nodze?\", \"Flaming\"),\n",
    "        12: (\"Czy można zjeść zupę widelcem?\", \"nie\"),\n",
    "        13: (\"Czy jednorożce istnieją?\", \"nie\"),\n",
    "        14: (\"Jakie jest ulubione jedzenie pand?\", \"Bambus\"),\n",
    "        15: (\"Czy można jeździć na rowerze pod wodą?\", \"nie\"),\n",
    "        16: (\"Czy koty mają dziewięć żyć?\", \"nie\"),\n",
    "        17: (\"Jakie zwierzę jest znane z tego, że zmienia kolor?\", \"Kameleon\"),\n",
    "        18: (\"Czy można zjeść pizzę na śniadanie?\", \"tak\"),\n",
    "        19: (\"Czy ryby mogą oddychać powietrzem?\", \"nie\"),\n",
    "        20: (\"Czy można tańczyć na księżycu?\", \"tak\")\n",
    "    }\n",
    "\n",
    "    while True:\n",
    "        # Pytanie, czy użytkownik chce rozpocząć quiz\n",
    "        start = input(\"Zaczynamy (t/n)? \").strip().lower()\n",
    "        if start != 't':\n",
    "            print(\"\\nDziękuję za grę.\")\n",
    "            break\n",
    "\n",
    "        # Informacja dla użytkownika\n",
    "        print(\"\\nProszę podawać proste odpowiedzi, przykładowo: tak, nie lub rzeczownik w mianowniku.\")\n",
    "\n",
    "        # Losowanie 6 pytań z 20\n",
    "        selected_questions = random.sample(list(questions.items()), 6)\n",
    "        score = 0\n",
    "        results = []\n",
    "\n",
    "        for i, (number, (question, correct_answer)) in enumerate(selected_questions, 1):\n",
    "            print(f\"\\nPytanie {i} z 6\")\n",
    "            print(f\"{question}\")\n",
    "            user_answer = input(\"Twoja odpowiedź: \").strip().lower()\n",
    "\n",
    "            if user_answer == correct_answer.lower():\n",
    "                score += 1\n",
    "                results.append((question, \"Poprawna\"))\n",
    "            else:\n",
    "                results.append((question, \"Niepoprawna\"))\n",
    "\n",
    "        # Wyświetlanie wyniku\n",
    "        print(f\"\\nTwój wynik: {score}/6\")\n",
    "        print()\n",
    "        print('Twoje odpowiedzi:')\n",
    "        for question, result in results:\n",
    "            print(f\"{question} - {result}\")\n",
    "\n",
    "        # Pytanie, czy użytkownik chce zagrać ponownie\n",
    "        repeat = input(\"\\nCzy chcesz zagrać ponownie? (t/n): \").strip().lower()\n",
    "        if repeat != 't':\n",
    "            print(\"\\nDziękuję, do zobaczenia.\")\n",
    "            break\n",
    "\n",
    "print()\n",
    "print('Quiz z losowymi pytaniami')\n",
    "print('-------------------------------------')\n",
    "\n",
    "quiz_app()"
   ]
  },
  {
   "cell_type": "markdown",
   "metadata": {
    "id": "ABtWcrHgGH2z"
   },
   "source": [
    "Exercise 5\n",
    "\n",
    "Write a program to calculate \"Your birth number\"."
   ]
  },
  {
   "cell_type": "code",
   "execution_count": null,
   "metadata": {
    "id": "JQVYLaExGIZL"
   },
   "outputs": [],
   "source": [
    "def calculate_birth_number(birth_date):\n",
    "    '''Liczy numer urodzenia z podanej daty urodzenia w formacie DD-MM-YYYY'''\n",
    "    \n",
    "    # Usuwamy wszystkie znaki niebędące cyframi z daty urodzenia\n",
    "    digits = [int(char) for char in birth_date if char.isdigit()]\n",
    "    \n",
    "    # Sumujemy cyfry aż do uzyskania pojedynczej cyfry\n",
    "    while len(digits) > 1:\n",
    "        digits = [int(char) for char in str(sum(digits))]\n",
    "    \n",
    "    return digits[0]\n",
    "\n",
    "def main():\n",
    "    '''Główna funkcja uruchamiająca program do obliczania numeru urodzenia'''\n",
    "    \n",
    "    print(\"Witaj! Jestem programem do obliczania Twojego numeru urodzenia.\")\n",
    "    \n",
    "    while True:\n",
    "        # Zapytaj o imię użytkownika\n",
    "        name = input(\"Jak masz na imię? \")\n",
    "        \n",
    "        # Zapytaj o rok, miesiąc i dzień urodzenia\n",
    "        year = input(\"Podaj rok urodzenia (YYYY): \")\n",
    "        month = input(\"Podaj miesiąc urodzenia (MM): \")\n",
    "        day = input(\"Podaj dzień urodzenia (DD): \")\n",
    "        \n",
    "        # Składanie daty urodzenia w formacie DD-MM-YYYY\n",
    "        date_of_birth = f\"{day}-{month}-{year}\"\n",
    "        \n",
    "        # Obliczanie numeru urodzenia\n",
    "        birth_number = calculate_birth_number(date_of_birth)\n",
    "        \n",
    "        # Wyświetlanie wyników\n",
    "        print(f\"\\nCześć {name}, oto kilka liczb, które mogą Cię zainteresować.\")\n",
    "        print(f\"Twoja data urodzenia to: {date_of_birth}\")\n",
    "        print(f\"Twój numer urodzenia to: {birth_number}\")\n",
    "        print(\"Miłego dnia!\")\n",
    "        \n",
    "        # Zapytaj, czy użytkownik chce obliczyć numer urodzenia dla innej osoby\n",
    "        repeat = input(\"\\nCzy chcesz obliczyć numer urodzenia dla innej osoby? (t/n): \").strip().lower()\n",
    "        if repeat != 't':\n",
    "            print(\"\\nDo widzenia!\")\n",
    "            break\n",
    "\n",
    "# Uruchomienie głównej funkcji\n",
    "main()"
   ]
  },
  {
   "cell_type": "markdown",
   "metadata": {
    "id": "Ko-2bBFFGMOZ"
   },
   "source": [
    "Exercise 6.\n",
    "\n",
    "Write a program that will collect the user's PESEL number and then present all readable information in 1 \"print()\":\n",
    "\n",
    "- date of birth in the DD/MM/YYYY format\n",
    "- ordinal number\n",
    "- sex\n",
    "- check digit"
   ]
  },
  {
   "cell_type": "code",
   "execution_count": null,
   "metadata": {
    "id": "UpWZR5hrGMzg"
   },
   "outputs": [],
   "source": [
    "# Powitanie\n",
    "print(\"Cześć! Jestem programem do analizy numeru PESEL.\")\n",
    "\n",
    "while True:\n",
    "    name = input(\"Jak masz na imię? \")\n",
    "    pesel = input(\"Podaj swój numer PESEL: \")\n",
    "\n",
    "    # Walidacja długości i typu znaków\n",
    "    if len(pesel) != 11 or not pesel.isdigit():\n",
    "        print(\"Numer PESEL musi mieć 11 cyfr i nie może zawierać liter.\")\n",
    "        continue\n",
    "\n",
    "    # Wyciągamy datę urodzenia\n",
    "    year = int(pesel[0:2])\n",
    "    month = int(pesel[2:4])\n",
    "    day = int(pesel[4:6])\n",
    "\n",
    "    # Korekta roku i miesiąca w zależności od stulecia\n",
    "    if month > 80:\n",
    "        year += 1800\n",
    "        month -= 80\n",
    "    elif month > 60:\n",
    "        year += 2200\n",
    "        month -= 60\n",
    "    elif month > 40:\n",
    "        year += 2100\n",
    "        month -= 40\n",
    "    elif month > 20:\n",
    "        year += 2000\n",
    "        month -= 20\n",
    "    else:\n",
    "        year += 1900\n",
    "\n",
    "    # Wyodrębnienie liczby porządkowej, płci i cyfry kontrolnej\n",
    "    ordinal_number = pesel[6:10]\n",
    "    \n",
    "    # Określanie płci\n",
    "    if int(pesel[9]) % 2 == 0:\n",
    "        sex = \"kobieta\"\n",
    "    else:\n",
    "        sex = \"mężczyzna\"\n",
    "    \n",
    "    #Cyfra kontrolna\n",
    "    check_digit = pesel[10]\n",
    "\n",
    "    # Wyświetlenie informacji\n",
    "    print(f\"Imię: {name}\\nData urodzenia: {day:02d}/{month:02d}/{year}\\nLiczba porządkowa: {ordinal_number}\\nPłeć: {sex}\\nCyfra kontrolna: {check_digit}\")\n",
    "\n",
    "    # Pytanie o kolejną osobę\n",
    "    another = input(\"Czy chcesz przetłumaczyć PESEL dla innej osoby? (t/n): \")\n",
    "    if another.lower() != 't':\n",
    "        print(\"Do widzenia!\")\n",
    "        break"
   ]
  },
  {
   "cell_type": "markdown",
   "metadata": {
    "id": "CTGajd8-GM_M"
   },
   "source": [
    "Exercise 7.\n",
    "\n",
    "Write a program to check whether a given word is a palindrome - if so: display \"yes, the word x is a palindrome\", otherwise - \"no, the word x is not a palindrome\"."
   ]
  },
  {
   "cell_type": "code",
   "execution_count": null,
   "metadata": {
    "id": "ntbajroEGO5y"
   },
   "outputs": [],
   "source": [
    "print(\"Cześć! Sprawdźmy, czy słowo o którym myślisz jest palindromem.\")\n",
    "\n",
    "while True: #wykonujemy tą pętlę dopóki użytkownik nie powie 'n' (lub cokolwiek innego niż 't') na jej końcu\n",
    "\n",
    "    word = input(\"Podaj słowo: \")\n",
    "\n",
    "     # Sprawdzenie, czy wpisane znaki to cyfry\n",
    "    if any(char.isdigit() for char in word):\n",
    "        print(\"Słowo nie może zawierać cyfr. Spróbuj ponownie.\")\n",
    "        continue\n",
    "\n",
    "    if word == word[::-1]:  # Sprawdzenie, czy słowo jest palindromem tj czy przeliterowane wspak jest takim samym stringiem jak słowo wejściowe\n",
    "        print(f\"Tak, słowo '{word}' jest palindromem.\")\n",
    "    else:\n",
    "        print(f\"Nie, słowo '{word}' nie jest palindromem.\")\n",
    "\n",
    "    # Pytanie o kolejne słowo\n",
    "    another = input(\"Czy chcesz sprawdzić inne słowo? (t/n): \")\n",
    "    if another.lower() != 't':\n",
    "        print(\"Do widzenia!\")\n",
    "        break"
   ]
  },
  {
   "cell_type": "markdown",
   "metadata": {
    "id": "Cq2022vlGThf"
   },
   "source": [
    "Exercise 8\n",
    "\n",
    "You have a magic box that doubles the number of items you put in each day. The given program takes the initial number of items and the number of days as input.\n",
    "\n",
    "Write a program to calculate and output the number of items on the last day."
   ]
  },
  {
   "cell_type": "code",
   "execution_count": null,
   "metadata": {
    "id": "cXa4RvRvGT7b"
   },
   "outputs": [],
   "source": [
    "print(\"Cześć! Jestem magicznym pudełkiem. Ile byś rzeczy u mnie nie schował, podwóję ich liczbę (w magiczny sposób! tylko dziś!) każdego nowego dnia\")\n",
    "\n",
    "# Prośba o liczbę przedmiotów\n",
    "while True:\n",
    "    items_input = input(\"Ile przedmiotów chciałbyś schować? Podaj liczbę przedmiotów: \")\n",
    "    if not items_input.isdigit(): #walidacja\n",
    "        print(\"Liczba przedmiotów musi być liczbą całkowitą. Spróbuj ponownie.\")\n",
    "    else:\n",
    "        items = int(items_input)\n",
    "        if items < 0:\n",
    "            print(\"Masz szczęście, tylko ja ogarniam minusy\")\n",
    "        break\n",
    "\n",
    "# Prośba o liczbę dni\n",
    "while True:\n",
    "    days_input = input(\"Jak długo chcesz je przechowywać? Podaj liczbę dni: \")\n",
    "    if not days_input.isdigit(): #walidacja\n",
    "        print(\"Liczba dni musi być liczbą całkowitą. Spróbuj ponownie.\")\n",
    "    else:\n",
    "        days = int(days_input)\n",
    "        if days < 0:\n",
    "            print(\"Masz szczęście, tylko ja ogarniam minusy\")\n",
    "        break\n",
    "\n",
    "# kalkulacja\n",
    "for day in range(days):\n",
    "    items *= 2\n",
    "\n",
    "# Wyświetlenie końcowej liczby przedmiotów\n",
    "print(f\"Po {days} dniach liczba Twoich przedmiotów to: {items}\")"
   ]
  },
  {
   "cell_type": "markdown",
   "metadata": {
    "id": "vxmg00ZtGUIS"
   },
   "source": [
    "Exercise 9.\n",
    "\n",
    "Write a program that, instead of every number divisible by 7, will display the word \"boom\" in a given range up to 200 - if the number is not divisible, it will simply display it."
   ]
  },
  {
   "cell_type": "code",
   "execution_count": null,
   "metadata": {
    "id": "1nsrj-pBGYwz"
   },
   "outputs": [],
   "source": [
    "print(\"Cześć! Ten program wyświetli dla Ciebie liczby od 1 do 200, zamieniając liczby podzielne przez 7 na słowo 'boom'\")\n",
    "# Pytanie, czy użytkownik chce rozpocząć\n",
    "start = input(\"Czy chcesz rozpocząć? (t/n): \")\n",
    "if start.lower() != 't':\n",
    "    print(\"No to pa!\")\n",
    "else:\n",
    "    # Zakres liczb do 200\n",
    "    for number in range(1, 201):\n",
    "        if number % 7 == 0:\n",
    "            print(\"boom\")\n",
    "        else:\n",
    "            print(number)"
   ]
  },
  {
   "cell_type": "markdown",
   "metadata": {
    "id": "nijv9WyCGfm7"
   },
   "source": [
    "\n",
    "Exercise 10.\n",
    "\n",
    "Write a program that returns a sequence from x to y of positive digits with the formula \"n**2 - 1/2\"."
   ]
  },
  {
   "cell_type": "code",
   "execution_count": null,
   "metadata": {
    "id": "mipk-Q0JGf-B"
   },
   "outputs": [],
   "source": [
    "print('Program oblicza ciąg liczb wg wzoru n**2 - 1/2 wykorzystując podane przez użytkownika wartości początkową (x) i końcową (y)')\n",
    "print()\n",
    "\n",
    "x = int(input(\"Podaj wartość początkową x: \"))\n",
    "y = int(input(\"Podaj wartość końcową y: \"))\n",
    "\n",
    "# Generowanie i wyświetlanie sekwencji\n",
    "print(\"Sekwencja liczb to:\")\n",
    "for n in range(x, y + 1):\n",
    "    result = n**2 - 1/2\n",
    "    print(result)"
   ]
  },
  {
   "cell_type": "markdown",
   "metadata": {
    "id": "SFnDy1j6GqWw"
   },
   "source": [
    "Exercise 11.\n",
    "\n",
    "Write a program to track your calories intaken.\n",
    "\n",
    "Create a list of the dishes you eat and a list of calories per dish - then ask the user how many portions he ate in a given period and display information about the total calories he ate and whether he exceeded the limit.\n",
    "\n",
    "\n",
    "Prepare tests to validate the correct operation of the program - prepare functions to check the correct operation - use the white box approach."
   ]
  },
  {
   "cell_type": "code",
   "execution_count": null,
   "metadata": {
    "id": "a2KE4wYHG51g"
   },
   "outputs": [],
   "source": [
    "# Base File (task1_ex11.py):\n",
    "\n",
    "# lista dań w formie słownika\n",
    "dishes = {\n",
    "    1: (\"Kasza gryczana z warzywami\", 200),\n",
    "    2: (\"Kasza jaglana z owocami\", 250),\n",
    "    3: (\"Ryż brązowy z kurczakiem i brokułami\", 350),\n",
    "    4: (\"Makaron pełnoziarnisty z sosem pomidorowym i tofu\", 400),\n",
    "    5: (\"Ziemniaki pieczone z fasolą i warzywami\", 300),\n",
    "    6: (\"Sałatka z soczewicą i warzywami\", 250),\n",
    "    7: (\"Ryba ze słoika z kaszą gryczaną i warzywami\", 350)\n",
    "}\n",
    "\n",
    "# Funkcja do obliczania BMR - podstawowej przemiany materii - wzór Mifflina-St Jeora\n",
    "def calculate_bmr(weight, height, age, gender):\n",
    "    if gender == 'm':\n",
    "        return 10 * weight + 6.25 * height - 5 * age + 5\n",
    "    elif gender == 'k':\n",
    "        return 10 * weight + 6.25 * height - 5 * age - 161\n",
    "    else:\n",
    "        return None\n",
    "\n",
    "# Korekta zapotrzebowania energetycznego w zależności od poziomu aktywności\n",
    "def calculate_caloric_needs(bmr, activity_level):\n",
    "    if activity_level == 'niski':\n",
    "        return bmr * 1.2\n",
    "    elif activity_level == 'średni':\n",
    "        return bmr * 1.55\n",
    "    elif activity_level == 'wysoki':\n",
    "        return bmr * 1.725\n",
    "    else:\n",
    "        return None\n",
    "\n",
    "# obliczanie różnicy kalorycznej\n",
    "def calculate_caloric_difference(caloric_needs, caloric_intake):\n",
    "    return caloric_intake - caloric_needs\n",
    "\n",
    "# Funkcja do pobierania danych od użytkownika\n",
    "def get_user_data():\n",
    "    age = int(input(\"Podaj swój wiek: \"))\n",
    "    weight = float(input(\"Podaj swoją wagę (kg): \"))\n",
    "    height = float(input(\"Podaj swój wzrost (cm): \"))\n",
    "    gender = input(\"Podaj swoją płeć (m/k): \").lower()\n",
    "    activity_level = input(\"Podaj swój poziom aktywności fizycznej (niski/średni/wysoki): \").lower()\n",
    "    return age, weight, height, gender, activity_level\n",
    "\n",
    "# Funkcja do pobierania informacji o spożytych daniach od użytkownika\n",
    "def get_user_dishes():\n",
    "    caloric_intake = 0\n",
    "    print(\"\\nLista dostępnych dań:\")\n",
    "    for number, (dish_name, calories) in dishes.items():\n",
    "        print(f\"{number}. {dish_name} - {calories} kcal\")\n",
    "\n",
    "    print(\"\\nPodaj numery spożytych dań (wpisz '0', aby zakończyć):\")\n",
    "    while True:\n",
    "        dish_number = int(input(\"Numer dania: \"))\n",
    "        if dish_number == 0:\n",
    "            break\n",
    "        if dish_number in dishes:\n",
    "            caloric_intake += dishes[dish_number][1]\n",
    "        else:\n",
    "            print(\"Nieznany numer dania. Spróbuj ponownie.\")\n",
    "    return caloric_intake\n",
    "\n",
    "# Główna funkcja aplikacji\n",
    "def main():\n",
    "    age, weight, height, gender, activity_level = get_user_data()\n",
    "    bmr = calculate_bmr(weight, height, age, gender)\n",
    "    if bmr is None:\n",
    "        print(\"Błąd: Nieprawidłowa płeć. Podaj 'm' lub 'k'.\")\n",
    "        return\n",
    "\n",
    "    caloric_needs = calculate_caloric_needs(bmr, activity_level)\n",
    "    if caloric_needs is None:\n",
    "        print(\"Błąd: Nieprawidłowy poziom aktywności fizycznej. Podaj 'niski', 'średni' lub 'wysoki'.\")\n",
    "        return\n",
    "\n",
    "    caloric_intake = get_user_dishes()\n",
    "    caloric_difference = calculate_caloric_difference(caloric_needs, caloric_intake)\n",
    "\n",
    "    print(f\"\\nTwoje zapotrzebowanie kaloryczne wynosi: {caloric_needs:.2f} kcal\")\n",
    "    print(f\"Twoje spożycie kalorii wynosi: {caloric_intake} kcal\")\n",
    "    if caloric_difference > 0:\n",
    "        print(f\"Masz nadmiar kalorii: {caloric_difference:.2f} kcal\")\n",
    "    elif caloric_difference < 0:\n",
    "        print(f\"Masz niedobór kalorii: {-caloric_difference:.2f} kcal\")\n",
    "    else:\n",
    "        print(\"Jesz tyle ile potrzebujesz, tak trzymaj!\")\n",
    "\n",
    "print()\n",
    "print('Jesz za dużo? Jesz za mało? A może jesz tyle ile trzeba? Sprawdź!')\n",
    "print()\n",
    "\n",
    "if __name__ == \"__main__\":\n",
    "    main()"
   ]
  },
  {
   "cell_type": "code",
   "execution_count": null,
   "metadata": {},
   "outputs": [],
   "source": [
    "# Test File (test_task1_ex11.py):\n",
    "    \n",
    "#import test framework\n",
    "import pytest\n",
    "\n",
    "# Import from the application file\n",
    "from task1_ex11 import calculate_bmr, calculate_caloric_needs, calculate_caloric_difference, dishes\n",
    "\n",
    "def test_calculate_bmr():\n",
    "    assert calculate_bmr(70, 175, 25, 'm') == 1673.75\n",
    "    assert calculate_bmr(60, 165, 30, 'k') == 1320.25\n",
    "    assert calculate_bmr(80, 180, 40, 'm') == 1730.0\n",
    "    assert calculate_bmr(55, 160, 20, 'k') == 1289.0\n",
    "\n",
    "def test_calculate_caloric_needs():\n",
    "    assert calculate_caloric_needs(1668.75, 'niski') == 2002.5\n",
    "    assert calculate_caloric_needs(1371.25, 'średni') == 2125.4375\n",
    "    assert calculate_caloric_needs(1820.0, 'wysoki') == 3139.5\n",
    "\n",
    "def test_calculate_caloric_difference():\n",
    "    assert calculate_caloric_difference(2000, 2500) == 500\n",
    "    assert calculate_caloric_difference(1800, 1500) == -300\n",
    "    assert calculate_caloric_difference(2200, 2200) == 0\n",
    "\n",
    "def test_user_input_handling():\n",
    "    age = 25\n",
    "    weight = 70\n",
    "    height = 175\n",
    "    gender = 'm'\n",
    "    activity_level = 'średni'\n",
    "    selected_dishes = [1, 3, 5]\n",
    "\n",
    "    bmr = calculate_bmr(weight, height, age, gender)\n",
    "    caloric_needs = calculate_caloric_needs(bmr, activity_level)\n",
    "    caloric_intake = sum(dishes[dish][1] for dish in selected_dishes)\n",
    "    caloric_difference = calculate_caloric_difference(caloric_needs, caloric_intake)\n",
    "\n",
    "    assert bmr == 1673.75\n",
    "    assert caloric_needs == 2594.3125\n",
    "    assert caloric_intake == 850\n",
    "    assert caloric_difference == -1744.3125\n",
    "\n",
    "if __name__ == \"__main__\":\n",
    "    pytest.main()"
   ]
  }
 ],
 "metadata": {
  "colab": {
   "collapsed_sections": [
    "S2UFyWSTgSv2",
    "DFE2lAQvmPuR",
    "9oExi_rUneR4",
    "F3ecaDCypvXT"
   ],
   "provenance": [],
   "toc_visible": true
  },
  "kernelspec": {
   "display_name": "Python 3",
   "name": "python3"
  },
  "language_info": {
   "codemirror_mode": {
    "name": "ipython",
    "version": 3
   },
   "file_extension": ".py",
   "mimetype": "text/x-python",
   "name": "python",
   "nbconvert_exporter": "python",
   "pygments_lexer": "ipython3",
   "version": "3.10.7"
  }
 },
 "nbformat": 4,
 "nbformat_minor": 0
}
